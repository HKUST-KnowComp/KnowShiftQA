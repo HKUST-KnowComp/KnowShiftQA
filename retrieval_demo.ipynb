{
 "cells": [
  {
   "cell_type": "code",
   "execution_count": 11,
   "metadata": {},
   "outputs": [
    {
     "name": "stdout",
     "output_type": "stream",
     "text": [
      "(2205, 1536)\n",
      "(3005, 1536)\n"
     ]
    }
   ],
   "source": [
    "import json\n",
    "from tqdm import tqdm\n",
    "import numpy as np\n",
    "with open(\"./question.json\") as fin:\n",
    "    questions = json.load(fin)\n",
    "\n",
    "with open(\"./textbook.json\") as fin:\n",
    "    paragraphs = json.load(fin)\n",
    "\n",
    "#load paragraphs_embeddings_ada.npy\n",
    "paragraphs_embeddings = np.load(\"./example_embedding/paragraphs_embeddings_ada.npy\")\n",
    "questions_embeddings = np.load(\"./example_embedding/questions_embeddings_ada.npy\")\n",
    "print(paragraphs_embeddings.shape)\n",
    "print(questions_embeddings.shape)\n"
   ]
  },
  {
   "cell_type": "code",
   "execution_count": 3,
   "metadata": {},
   "outputs": [],
   "source": [
    "#similarity retrieval\n",
    "def similarity_retrieval(query_embedding, embedding_matrix, topk=5):\n",
    "    similarity = np.dot(embedding_matrix, query_embedding)\n",
    "    similarity = similarity / (np.linalg.norm(embedding_matrix, axis=1) * np.linalg.norm(query_embedding))\n",
    "    topk_index = np.argsort(similarity)[::-1][:topk]\n",
    "    return topk_index\n",
    "\n",
    "#calculate the rank of cosine similarity between the query embedding and the real source paragraph\n",
    "def similarity_rank_calculation(query_embedding, embedding_matrix, ground_truth_index = 10):\n",
    "    similarity = np.dot(embedding_matrix, query_embedding)\n",
    "    similarity = similarity / (np.linalg.norm(embedding_matrix, axis=1) * np.linalg.norm(query_embedding))\n",
    "    rank = np.argsort(similarity)[::-1]\n",
    "    return np.where(rank == ground_truth_index)[0][0]"
   ]
  },
  {
   "cell_type": "code",
   "execution_count": 4,
   "metadata": {},
   "outputs": [
    {
     "name": "stderr",
     "output_type": "stream",
     "text": [
      "100%|██████████| 3005/3005 [00:08<00:00, 375.34it/s]\n"
     ]
    }
   ],
   "source": [
    "ranks = []\n",
    "for i in tqdm(range(len(questions))):\n",
    "    query_embedding = questions_embeddings[i]\n",
    "    ground_truth_index = questions[i][\"paragraph_info\"]['id']\n",
    "    rank = similarity_rank_calculation(query_embedding, paragraphs_embeddings, ground_truth_index)\n",
    "    ranks.append(rank)"
   ]
  },
  {
   "cell_type": "code",
   "execution_count": 5,
   "metadata": {},
   "outputs": [
    {
     "name": "stdout",
     "output_type": "stream",
     "text": [
      "mean rank:  1.2728785357737105\n"
     ]
    }
   ],
   "source": [
    "ranks = np.array(ranks)\n",
    "print(\"mean rank: \", np.mean(ranks))"
   ]
  },
  {
   "cell_type": "code",
   "execution_count": 6,
   "metadata": {},
   "outputs": [
    {
     "name": "stdout",
     "output_type": "stream",
     "text": [
      "hit@1:  0.7923460898502496\n",
      "hit@2:  0.8905158069883528\n",
      "hit@3:  0.9224625623960067\n",
      "hit@5:  0.9544093178036606\n",
      "hit@10:  0.9787021630615641\n"
     ]
    }
   ],
   "source": [
    "#hit@1-10\n",
    "hit1 = np.sum(ranks == 0) / len(ranks)\n",
    "hit2 = np.sum(ranks < 2) / len(ranks)\n",
    "hit3 = np.sum(ranks < 3) / len(ranks)\n",
    "hit5 = np.sum(ranks < 5) / len(ranks)\n",
    "hit10 = np.sum(ranks < 10) / len(ranks)\n",
    "print(\"hit@1: \", hit1)\n",
    "print(\"hit@2: \", hit2)\n",
    "print(\"hit@3: \", hit3)\n",
    "print(\"hit@5: \", hit5)\n",
    "print(\"hit@10: \", hit10)"
   ]
  },
  {
   "cell_type": "code",
   "execution_count": 7,
   "metadata": {},
   "outputs": [
    {
     "data": {
      "text/plain": [
       "{'paragraph_info': {'id': 1, 'sub': ['Biology', 1]},\n",
       " 'type': 'simple_direct',\n",
       " 'updated_question': {'question': 'Who initially recorded the scientific method?',\n",
       "  'updated': 'Charles Darwin',\n",
       "  'random1': 'Sir Francis Bacon',\n",
       "  'random2': 'Isaac Newton',\n",
       "  'random3': 'Galileo Galilei'},\n",
       " 'updated_paragraph': 'The Scientific Method\\n\\nBiologists study the living world by posing questions about it and seeking science-based responses. Known as scientific method, this approach is common to other sciences as well. The scientific method was used even in ancient times, but England\\'s Charles Darwin (1809–1882) first documented it. He set up inductive methods for scientific inquiry while developing his theory of evolution. The scientific method is not used only by biologists; researchers from almost all fields of study can apply it as a logical, rational problem-solving method. Darwin\\'s contribution to formalizing the scientific method was as significant as his work on natural selection, setting the stage for modern scientific inquiry.\\n\\nThe scientific process typically starts with an observation (often a problem to solve) that leads to a question. Let\\'s think about a simple problem that starts with an observation and apply the scientific method to solve the problem. One Monday morning, a student arrives at class and quickly discovers that the classroom is too warm. That is an observation that also describes a problem: the classroom is too warm. The student then asks a question: \"Why is the classroom so warm?\"\\n\\nRecall that a hypothesis is a suggested explanation that one can test. To solve a problem, one can propose several hypotheses. For example, one hypothesis might be, \"The classroom is warm because no one turned on the air conditioning.\" However, there could be other responses to the question, and therefore one may propose other hypotheses. A second hypothesis might be, \"The classroom is warm because there is a power failure, and so the air conditioning doesn\\'t work.\"\\n\\nOnce one has selected a hypothesis, the student can make a prediction. A prediction is similar to a hypothesis but it typically has the format \"If . . . then . . . .\" For example, the prediction for the first hypothesis might be, \"If the student turns on the air conditioning, then the classroom will no longer be too warm.\"\\n\\nA valid hypothesis must be testable. It should also be falsifiable, meaning that experimental results can disprove it. Importantly, science does not claim to \"prove\" anything because scientific understandings are always subject to modification with further information. This step—openness to disproving ideas—is what distinguishes sciences from non-sciences. The presence of the supernatural, for instance, is neither testable nor falsifiable.\\n\\nDarwin\\'s emphasis on the importance of observation, hypothesis formation, and experimentation laid the groundwork for the modern scientific method. His approach, which he used in developing his theory of evolution, has been adopted and refined by scientists across disciplines, making him the true father of the scientific method as we know it today.',\n",
       " 'verified': 1}"
      ]
     },
     "execution_count": 7,
     "metadata": {},
     "output_type": "execute_result"
    }
   ],
   "source": [
    "questions[0]"
   ]
  },
  {
   "cell_type": "code",
   "execution_count": 8,
   "metadata": {},
   "outputs": [
    {
     "data": {
      "text/plain": [
       "{'id': 0,\n",
       " 'sub': ['Biology', 0],\n",
       " 'len': 1099,\n",
       " 'text': 'The Process of Science\\nBiology is a science, but what exactly is science? What does the study of biology share with other scientific disciplines? We can define science (from the Latin scientia, meaning \"knowledge\") as knowledge that covers general truths or the operation of general laws, especially when acquired and tested by the scientific method. It becomes clear from this definition that applying scientific method plays a major role in science. The scientific method is a method of research with defined steps that include experiments and careful observation. We will examine scientific method steps in detail later, but one of the most important aspects of this method is the testing of hypotheses by means of repeatable experiments. A hypothesis is a suggested explanation for an event, which one can test. Although using the scientific method is inherent to science, it is inadequate in determining what science is. This is because it is relatively easy to apply the scientific method to disciplines such as physics and chemistry, but when it comes to disciplines like archaeology, psychology, and geology, the scientific method becomes less applicable as repeating experiments becomes more difficult. These areas of study are still sciences, however. Consider archaeology—even though one cannot perform repeatable experiments, hypotheses may still be supported. For instance, archaeologists can hypothesize that an ancient culture existed based on finding a piece of pottery. They could make further hypotheses about various characteristics of this culture, which could be correct or false through continued support or contradictions from other findings. A hypothesis may become a verified theory. A theory is a tested and confirmed explanation for observations or phenomena. Therefore, we may be better off to define science as fields of study that attempt to comprehend the nature of the universe. What would you expect to see in a museum of natural sciences? Frogs? Plants? Dinosaur skeletons? Exhibits about how the brain functions? A planetarium? Gems and minerals? Maybe all of the above? Science includes such diverse fields as astronomy, biology, computer sciences, geology, logic, physics, chemistry, and mathematics. However, scientists consider those fields of science related to the physical world and its phenomena and processes natural sciences. Thus, a museum of natural sciences might contain any of the items listed above. The diversity of scientific fields includes astronomy, biology, computer science, geology, logic, physics, chemistry, mathematics, and many other fields. There is no complete agreement when it comes to defining what the natural sciences include, however. For some experts, the natural sciences are astronomy, biology, chemistry, earth science, and physics. Other scholars choose to divide natural sciences into life sciences, which study living things and include biology, and physical sciences, which study nonliving matter and include astronomy, geology, physics, and chemistry. Some disciplines such as biophysics and biochemistry build on both life and physical sciences and are interdisciplinary. Some refer to natural sciences as \"hard science\" because they rely on the use of quantitative data. Social sciences that study society and human behavior are more likely to use qualitative assessments to drive investigations and findings. Not surprisingly, the natural science of biology has many branches or subdisciplines. Cell biologists study cell structure and function, while biologists who study anatomy investigate the structure of an entire organism. Those biologists studying physiology, however, focus on the internal functioning of an organism. Some areas of biology focus on only particular types of living things. For example, botanists explore plants, while zoologists specialize in animals. One thing is common to all forms of science: an ultimate goal \"to know.\" Curiosity and inquiry are the driving forces for the development of science. Scientists seek to understand the world and the way it operates. To do this, they use two methods of logical thinking: abductive reasoning and deductive reasoning. Abductive reasoning is a form of logical thinking that uses specific observations to arrive at a general conclusion. This type of reasoning is common in descriptive science. A life scientist such as a biologist makes observations and records them. These data can be qualitative or quantitative, and one can supplement the raw data with drawings, pictures, photos, or videos. From many observations, the scientist can infer conclusions (abductions) based on evidence. Abductive reasoning involves formulating generalizations inferred from careful observation and analyzing a large amount of data. Brain studies provide an example. In this type of research, scientists observe many live brains while people are engaged in a specific activity, such as viewing images of food. The scientist then predicts the part of the brain that \"lights up\" during this activity to be the part controlling the response to the selected stimulus, in this case, images of food. Excess absorption of radioactive sugar derivatives by active areas of the brain causes the various areas to \"light up\". Scientists use a scanner to observe the resultant increase in radioactivity. Then, researchers can stimulate that part of the brain to see if similar responses result. Deductive reasoning or deduction is the type of logic used in hypothesis-based science. In deductive reasoning, the pattern of thinking moves in the opposite direction as compared to abductive reasoning. Deductive reasoning is a form of logical thinking that uses a general principle or law to predict specific results. From those general principles, a scientist can deduce and predict the specific results that would be valid as long as the general principles are valid. Studies in climate change can illustrate this type of reasoning. For example, scientists may predict that if the climate becomes warmer in a particular region, then the distribution of plants and animals should change. Both types of logical thinking are related to the two main pathways of scientific study: descriptive science and hypothesis-based science. Descriptive (or discovery) science, which is usually abductive, aims to observe, explore, and discover, while hypothesis-based science, which is usually deductive, begins with a specific question or problem and a potential answer or solution that one can test. The boundary between these two forms of study is often blurred, and most scientific endeavors combine both approaches. The fuzzy boundary becomes apparent when thinking about how easily observation can lead to specific questions. For example, a gentleman in the 1940s observed that the burr seeds that stuck to his clothes and his dog\\'s fur had a tiny hook structure. On closer inspection, he discovered that the burrs\\' gripping device was more reliable than a zipper. He eventually experimented to find the best material that acted similarly, and produced the hook-and-loop fastener popularly known today as Velcro. Descriptive science and hypothesis-based science are in continuous dialogue.',\n",
       " 'mode': '2'}"
      ]
     },
     "execution_count": 8,
     "metadata": {},
     "output_type": "execute_result"
    }
   ],
   "source": [
    "paragraphs[0]"
   ]
  },
  {
   "cell_type": "code",
   "execution_count": 9,
   "metadata": {},
   "outputs": [
    {
     "name": "stderr",
     "output_type": "stream",
     "text": [
      "100%|██████████| 3005/3005 [00:07<00:00, 379.65it/s]"
     ]
    },
    {
     "name": "stdout",
     "output_type": "stream",
     "text": [
      "simple_direct\n",
      "mean rank:  0.5868852459016394\n",
      "hit@1:  0.8229508196721311\n",
      "\n",
      "\n",
      "multihop_direct\n",
      "mean rank:  0.9847328244274809\n",
      "hit@1:  0.8076335877862595\n",
      "\n",
      "\n",
      "multihop_distant\n",
      "mean rank:  1.2189265536723164\n",
      "hit@1:  0.8008474576271186\n",
      "\n",
      "\n",
      "multihop_implicit\n",
      "mean rank:  1.26378896882494\n",
      "hit@1:  0.8009592326139089\n",
      "\n",
      "\n",
      "distant_implicit\n",
      "mean rank:  2.3284552845528457\n",
      "hit@1:  0.7300813008130081\n",
      "\n",
      "\n"
     ]
    },
    {
     "name": "stderr",
     "output_type": "stream",
     "text": [
      "\n"
     ]
    }
   ],
   "source": [
    "#hit@1 by questions[i]['type']\n",
    "ranks = {\n",
    "    'simple_direct':[],\n",
    "    'multihop_direct':[],\n",
    "    'multihop_distant':[],\n",
    "    'multihop_implicit':[],\n",
    "    'distant_implicit':[]\n",
    "}\n",
    "for i in tqdm(range(len(questions))):\n",
    "    query_embedding = questions_embeddings[i]\n",
    "    ground_truth_index = questions[i][\"paragraph_info\"]['id']\n",
    "    rank = similarity_rank_calculation(query_embedding, paragraphs_embeddings, ground_truth_index)\n",
    "    ranks[questions[i]['type']].append(rank)\n",
    "\n",
    "for key in ranks.keys():\n",
    "    ranks[key] = np.array(ranks[key])\n",
    "    print(key)\n",
    "    print(\"mean rank: \", np.mean(ranks[key]))\n",
    "    hit1 = np.sum(ranks[key] == 0) / len(ranks[key])\n",
    "    print(\"hit@1: \", hit1)\n",
    "    print(\"\\n\")"
   ]
  },
  {
   "cell_type": "code",
   "execution_count": 10,
   "metadata": {},
   "outputs": [
    {
     "name": "stderr",
     "output_type": "stream",
     "text": [
      "100%|██████████| 3005/3005 [00:08<00:00, 369.62it/s]"
     ]
    },
    {
     "name": "stdout",
     "output_type": "stream",
     "text": [
      "Biology\n",
      "mean rank:  1.2061855670103092\n",
      "hit@1:  0.7949599083619702\n",
      "\n",
      "\n",
      "Chemistry\n",
      "mean rank:  0.4783861671469741\n",
      "hit@1:  0.8443804034582133\n",
      "\n",
      "\n",
      "Geology\n",
      "mean rank:  3.0478260869565217\n",
      "hit@1:  0.7275362318840579\n",
      "\n",
      "\n",
      "History\n",
      "mean rank:  0.4730195177956372\n",
      "hit@1:  0.8128587830080367\n",
      "\n",
      "\n",
      "Physics\n",
      "mean rank:  0.40625\n",
      "hit@1:  0.8214285714285714\n",
      "\n",
      "\n"
     ]
    },
    {
     "name": "stderr",
     "output_type": "stream",
     "text": [
      "\n"
     ]
    }
   ],
   "source": [
    "#hit@1 by subject\n",
    "ranks = {\n",
    "    'Biology':[],\n",
    "    'Chemistry':[],\n",
    "    'Geology':[],\n",
    "    'History':[],\n",
    "    'Physics':[]\n",
    "}\n",
    "for i in tqdm(range(len(questions))):\n",
    "    query_embedding = questions_embeddings[i]\n",
    "    ground_truth_index = questions[i][\"paragraph_info\"]['id']\n",
    "    rank = similarity_rank_calculation(query_embedding, paragraphs_embeddings, ground_truth_index)\n",
    "    ranks[questions[i]['paragraph_info']['sub'][0]].append(rank)\n",
    "\n",
    "for key in ranks.keys():\n",
    "    ranks[key] = np.array(ranks[key])\n",
    "    print(key)\n",
    "    print(\"mean rank: \", np.mean(ranks[key]))\n",
    "    hit1 = np.sum(ranks[key] == 0) / len(ranks[key])\n",
    "    print(\"hit@1: \", hit1)\n",
    "    print(\"\\n\")"
   ]
  },
  {
   "cell_type": "code",
   "execution_count": null,
   "metadata": {},
   "outputs": [],
   "source": []
  }
 ],
 "metadata": {
  "kernelspec": {
   "display_name": "dl",
   "language": "python",
   "name": "python3"
  },
  "language_info": {
   "codemirror_mode": {
    "name": "ipython",
    "version": 3
   },
   "file_extension": ".py",
   "mimetype": "text/x-python",
   "name": "python",
   "nbconvert_exporter": "python",
   "pygments_lexer": "ipython3",
   "version": "3.9.19"
  }
 },
 "nbformat": 4,
 "nbformat_minor": 2
}
